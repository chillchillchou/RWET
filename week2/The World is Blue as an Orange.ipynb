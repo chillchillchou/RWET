{
 "cells": [
  {
   "cell_type": "markdown",
   "metadata": {},
   "source": [
    "# Implementations of early and well-known poetry generators\n",
    "\n",
    "By [Allison Parrish](http://www.decontextualize.com/)\n",
    "\n",
    "This notebook has some Python implementations of a number of early and well-known poetry generators, including Knowles and Tenney's *A House of Dust*, Strachey's love letter generator and Nick Montfort's *Taroko Gorge*."
   ]
  },
  {
   "cell_type": "markdown",
   "metadata": {},
   "source": [
    "## A House of Dust\n",
    "\n",
    "Original written in Fortran in 1967 by Alison Knowles and James Tenney. [ELMCIP entry](https://elmcip.net/creative-work/house-dust). [More information](http://blog.calarts.edu/2009/09/10/alison-knowles-james-tenney-and-the-house-of-dust-at-calarts/). [Watch Alison Knowles read from this piece](https://www.youtube.com/watch?v=-68Z708lFsY)."
   ]
  },
  {
   "cell_type": "code",
   "execution_count": 29,
   "metadata": {
    "collapsed": true
   },
   "outputs": [],
   "source": [
    "import random"
   ]
  },
  {
   "cell_type": "code",
   "execution_count": 66,
   "metadata": {
    "collapsed": true
   },
   "outputs": [],
   "source": [
    "food = [\n",
    "    'a tonkotsu ramen with miso',\n",
    "    'a chicken pasta',\n",
    "    'a mixed berry acai bowl',\n",
    "    'a Kung Pai Chicken',\n",
    "    'a salmon roll',\n",
    "    'a braised pork belly ',\n",
    "    'a baked beef shawarma ',\n",
    "    'a peppercorn catfish sandwich',\n",
    "    'a green tea icecream',\n",
    "    'a caramelized soy sunnyside red paprika',\n",
    "    'a raw beef pho',\n",
    "    'a bulgogi rice bowl',\n",
    "    'a chicken noodle soup',\n",
    "    'a cocnut curry shimp',\n",
    "    'a pork soup dumplings',\n",
    "    'a miso surf turf poke bowl',\n",
    "    'a Pan fried sweetbread with mushroom and cherries',\n",
    "    'a steamed white rice',\n",
    "    'an orange',\n",
    "    'a pumpkin',\n",
    "]"
   ]
  },
  {
   "cell_type": "code",
   "execution_count": 54,
   "metadata": {
    "collapsed": true
   },
   "outputs": [],
   "source": [
    "time = [\n",
    "    'when all human beings turn into dust',\n",
    "    'when I die',\n",
    "    '1000 years ago',\n",
    "    'when the earth just born',\n",
    "    'when I see her for the first time',\n",
    "    'when the sun rises',\n",
    "    'when the leaves fall from the tree',\n",
    "    'when Newton saw apple falling and discovered gravity',\n",
    "    'The day John Lennon got shot',\n",
    "    'When amsterdam took his step onto the moon',\n",
    "    '100 years later',\n",
    "    'when we were still apes',\n",
    "    'when human created the first melody',\n",
    "    'when I see you smile for the time',\n",
    "    'when I was 21',\n",
    "    'the day you left me',\n",
    "    'when snows fall',\n",
    "    'when flower blooms',\n",
    "    'when wind blows',\n",
    "    'when we are 64',\n",
    "    'the first time I kissed some one',\n",
    "    'when I look into myself in the mirror',\n",
    "    'when I moved to New York',\n",
    "    'when forests dissappear'\n",
    "    'when giraffe dinstincts'\n",
    "    'when I board onto the spaceship to mars'\n",
    "]"
   ]
  },
  {
   "cell_type": "code",
   "execution_count": 64,
   "metadata": {
    "collapsed": true
   },
   "outputs": [],
   "source": [
    "color = [\n",
    "    'blue',\n",
    "    'black',\n",
    "    'white',\n",
    "    'green',\n",
    "    'orange',\n",
    "    'violet',\n",
    "    'grey',\n",
    "    'red',\n",
    "    'gold',\n",
    "]"
   ]
  },
  {
   "cell_type": "code",
   "execution_count": 59,
   "metadata": {
    "collapsed": true
   },
   "outputs": [],
   "source": [
    "locations = [\n",
    "    'among high mountains',\n",
    "    'among other houses',\n",
    "    'among small hills',\n",
    "    'by a river',\n",
    "    'by an abandoned lake',\n",
    "    'by the sea',\n",
    "    'in a cold, windy climate',\n",
    "    'in a deserted airport',\n",
    "    'in a deserted church',\n",
    "    'in a deserted factory',\n",
    "    'in a green, mossy terrain',\n",
    "    'in a hot climate',\n",
    "    'in a metropolis',\n",
    "    'in a place with both heavy rain and bright sun',\n",
    "    'in an overpopulated area',\n",
    "    'in dense woods',\n",
    "    'in heavy jungle undergrowth',\n",
    "    'in japan',\n",
    "    'in ancient China',\n",
    "    'in southern france',\n",
    "    'inside a mountain',\n",
    "    'on an island',\n",
    "    'on the sea',\n",
    "    'underwater'\n",
    "]"
   ]
  },
  {
   "cell_type": "code",
   "execution_count": 60,
   "metadata": {
    "collapsed": true
   },
   "outputs": [],
   "source": [
    "subjects = [\n",
    "    'Myself',\n",
    "    'children and old people',\n",
    "    'You',\n",
    "    'fishermen and families',\n",
    "    'the french man who speaks German',\n",
    "    'a girl with blue eyes',\n",
    "    'friends and enemies',\n",
    "    'horses and birds',\n",
    "    'little boys',\n",
    "    'lovers',\n",
    "    'people from many walks of life',\n",
    "    'people speaking many languages wearing little or no clothing',\n",
    "    'the little bird that was burried under my house',\n",
    "    'a man with a tall hat',\n",
    "    'a man with no beard',\n",
    "    'a fishman who never smiles',\n",
    "    'the alien boy who flies',\n",
    "    'various birds and fish',\n",
    "    'humans and animals',\n",
    "    'very tall people'\n",
    "]"
   ]
  },
  {
   "cell_type": "code",
   "execution_count": 67,
   "metadata": {},
   "outputs": [
    {
     "name": "stdout",
     "output_type": "stream",
     "text": [
      "\n",
      "when I moved to New York\n",
      "     The world is violet as an orange\n",
      "          in a place with both heavy rain and bright sun\n",
      "                I see people from many walks of life\n",
      "\n",
      "1000 years ago\n",
      "     The world is orange as a miso surf turf poke bowl\n",
      "          underwater\n",
      "                I see people speaking many languages wearing little or no clothing\n",
      "\n",
      "when the leaves fall from the tree\n",
      "     The world is violet as a chicken pasta\n",
      "          underwater\n",
      "                I see horses and birds\n",
      "\n",
      "when the leaves fall from the tree\n",
      "     The world is gold as a pumpkin\n",
      "          in a hot climate\n",
      "                I see Myself\n",
      "\n",
      "when I moved to New York\n",
      "     The world is green as a bulgogi rice bowl\n",
      "          in a green, mossy terrain\n",
      "                I see a man with a tall hat\n",
      "\n",
      "the day you left me\n",
      "     The world is gold as a peppercorn catfish sandwich\n",
      "          in a deserted factory\n",
      "                I see fishermen and families\n",
      "\n",
      "when I look into myself in the mirror\n",
      "     The world is green as a salmon roll\n",
      "          in a deserted airport\n",
      "                I see humans and animals\n"
     ]
    }
   ],
   "source": [
    "stanza_count = 7\n",
    "for i in range(stanza_count):\n",
    "    print()\n",
    "    print(random.choice(time))\n",
    "    print(\"     \" +\"The world is \" + random.choice(color)+ \" \"+\"as\"+\" \" + random.choice(food))\n",
    "    print(\"          \" + random.choice(location))\n",
    "    print(\"                I see \" + random.choice(subjects))"
   ]
  }
 ],
 "metadata": {
  "kernelspec": {
   "display_name": "Python 3",
   "language": "python",
   "name": "python3"
  },
  "language_info": {
   "codemirror_mode": {
    "name": "ipython",
    "version": 3
   },
   "file_extension": ".py",
   "mimetype": "text/x-python",
   "name": "python",
   "nbconvert_exporter": "python",
   "pygments_lexer": "ipython3",
   "version": "3.6.3"
  }
 },
 "nbformat": 4,
 "nbformat_minor": 2
}
