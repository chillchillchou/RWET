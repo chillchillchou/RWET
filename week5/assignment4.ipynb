{
 "cells": [
  {
   "cell_type": "code",
   "execution_count": 168,
   "metadata": {},
   "outputs": [],
   "source": [
    "names= [\n",
    "    \"Aaliyah\",\n",
    "    \"Aaron\",\n",
    "    \"Abby\",\n",
    "    \"Abigail\",\n",
    "    \"Abraham\",\n",
    "    \"Adam\",\n",
    "    \"Addison\",\n",
    "    \"Adrian\",\n",
    "    \"Adriana\",\n",
    "    \"Adrianna\",\n",
    "    \"Aidan\",\n",
    "    \"Aiden\",\n",
    "    \"Alan\",\n",
    "    \"Alana\",\n",
    "    \"Alejandro\",\n",
    "    \"Alex\",\n",
    "    \"Alexa\",\n",
    "    \"Alexander\",\n",
    "    \"Alexandra\",\n",
    "    \"Alexandria\",\n",
    "    \"Alexia\",\n",
    "    \"Alexis\",\n",
    "    \"Alicia\",\n",
    "    \"Allison\",\n",
    "    \"Alondra\",\n",
    "    \"Alyssa\",\n",
    "    \"Amanda\",\n",
    "    \"Amber\",\n",
    "    \"Amelia\",\n",
    "    \"Amy\",\n",
    "    \"Ana\",\n",
    "    \"Andrea\",\n",
    "    \"Andres\",\n",
    "    \"Andrew\",\n",
    "    \"Angel\",\n",
    "    \"Angela\",\n",
    "    \"Angelica\",\n",
    "    \"Angelina\",\n",
    "    \"Anna\",\n",
    "    \"Anthony\",\n",
    "    \"Antonio\",\n",
    "    \"Ariana\",\n",
    "    \"Arianna\",\n",
    "    \"Ashley\",\n",
    "    \"Ashlyn\",\n",
    "    \"Ashton\",\n",
    "    \"Aubrey\",\n",
    "    \"Audrey\",\n",
    "    \"Austin\",\n",
    "    \"Autumn\",\n",
    "    \"Ava\",\n",
    "    \"Avery\",\n",
    "    \"Ayden\",\n",
    "    \"Bailey\",\n",
    "    \"Benjamin\",\n",
    "    \"Bianca\",\n",
    "    \"Blake\",\n",
    "    \"Braden\",\n",
    "    \"Bradley\",\n",
    "    \"Brady\",\n",
    "    \"Brandon\",\n",
    "    \"Brayden\",\n",
    "    \"Breanna\",\n",
    "    \"Brendan\",\n",
    "    \"Brian\",\n",
    "    \"Briana\",\n",
    "    \"Brianna\",\n",
    "    \"Brittany\",\n",
    "    \"Brody\",\n",
    "    \"Brooke\",\n",
    "    \"Brooklyn\",\n",
    "    \"Bryan\",\n",
    "    \"Bryce\",\n",
    "    \"Bryson\",\n",
    "    \"Caden\",\n",
    "    \"Caitlin\",\n",
    "    \"Caitlyn\",\n",
    "    \"Caleb\",\n",
    "    \"Cameron\",\n",
    "    \"Camila\",\n",
    "    \"Carlos\",\n",
    "    \"Caroline\",\n",
    "    \"Carson\",\n",
    "    \"Carter\",\n",
    "    \"Cassandra\",\n",
    "    \"Cassidy\",\n",
    "    \"Catherine\",\n",
    "    \"Cesar\",\n",
    "    \"Charles\",\n",
    "    \"Charlotte\",\n",
    "    \"Chase\",\n",
    "    \"Chelsea\",\n",
    "    \"Cheyenne\",\n",
    "    \"Chloe\",\n",
    "    \"Christian\",\n",
    "    \"Christina\",\n",
    "    \"Christopher\",\n",
    "    \"Claire\",\n",
    "    \"Cody\",\n",
    "    \"Colby\",\n",
    "    \"Cole\",\n",
    "    \"Colin\",\n",
    "    \"Collin\",\n",
    "    \"Colton\",\n",
    "    \"Conner\",\n",
    "    \"Connor\",\n",
    "    \"Cooper\",\n",
    "    \"Courtney\",\n",
    "    \"Cristian\",\n",
    "    \"Crystal\",\n",
    "    \"Daisy\",\n",
    "    \"Dakota\",\n",
    "    \"Dalton\",\n",
    "    \"Damian\",\n",
    "    \"Daniel\",\n",
    "    \"Daniela\",\n",
    "    \"Danielle\",\n",
    "    \"David\",\n",
    "    \"Delaney\",\n",
    "    \"Derek\",\n",
    "    \"Destiny\",\n",
    "    \"Devin\",\n",
    "    \"Devon\",\n",
    "    \"Diana\",\n",
    "    \"Diego\",\n",
    "    \"Dominic\",\n",
    "    \"Donovan\",\n",
    "    \"Dylan\",\n",
    "    \"Edgar\",\n",
    "    \"Eduardo\",\n",
    "    \"Edward\",\n",
    "    \"Edwin\",\n",
    "    \"Eli\",\n",
    "    \"Elias\",\n",
    "    \"Elijah\",\n",
    "    \"Elizabeth\",\n",
    "    \"Ella\",\n",
    "    \"Ellie\",\n",
    "    \"Emily\",\n",
    "    \"Emma\",\n",
    "    \"Emmanuel\",\n",
    "    \"Eric\",\n",
    "    \"Erica\",\n",
    "    \"Erick\",\n",
    "    \"Erik\",\n",
    "    \"Erin\",\n",
    "    \"Ethan\",\n",
    "    \"Eva\",\n",
    "    \"Evan\",\n",
    "    \"Evelyn\",\n",
    "    \"Faith\",\n",
    "    \"Fernando\",\n",
    "    \"Francisco\",\n",
    "    \"Gabriel\",\n",
    "    \"Gabriela\",\n",
    "    \"Gabriella\",\n",
    "    \"Gabrielle\",\n",
    "    \"Gage\",\n",
    "    \"Garrett\",\n",
    "    \"Gavin\",\n",
    "    \"Genesis\",\n",
    "    \"George\",\n",
    "    \"Gianna\",\n",
    "    \"Giovanni\",\n",
    "    \"Giselle\",\n",
    "    \"Grace\",\n",
    "    \"Gracie\",\n",
    "    \"Grant\",\n",
    "    \"Gregory\",\n",
    "    \"Hailey\",\n",
    "    \"Haley\",\n",
    "    \"Hannah\",\n",
    "    \"Hayden\",\n",
    "    \"Hector\",\n",
    "    \"Henry\",\n",
    "    \"Hope\",\n",
    "    \"Hunter\",\n",
    "    \"Ian\",\n",
    "    \"Isaac\",\n",
    "    \"Isabel\",\n",
    "    \"Isabella\",\n",
    "    \"Isabelle\",\n",
    "    \"Isaiah\",\n",
    "    \"Ivan\",\n",
    "    \"Jack\",\n",
    "    \"Jackson\",\n",
    "    \"Jacob\",\n",
    "    \"Jacqueline\",\n",
    "    \"Jada\",\n",
    "    \"Jade\",\n",
    "    \"Jaden\",\n",
    "    \"Jake\",\n",
    "    \"Jalen\",\n",
    "    \"James\",\n",
    "    \"Jared\",\n",
    "    \"Jasmin\",\n",
    "    \"Jasmine\",\n",
    "    \"Jason\",\n",
    "    \"Javier\",\n",
    "    \"Jayden\",\n",
    "    \"Jayla\",\n",
    "    \"Jazmin\",\n",
    "    \"Jeffrey\",\n",
    "    \"Jenna\",\n",
    "    \"Jennifer\",\n",
    "    \"Jeremiah\",\n",
    "    \"Jeremy\",\n",
    "    \"Jesse\",\n",
    "    \"Jessica\",\n",
    "    \"Jesus\",\n",
    "    \"Jillian\",\n",
    "    \"Jocelyn\",\n",
    "    \"Joel\",\n",
    "    \"John\",\n",
    "    \"Johnathan\",\n",
    "    \"Jonah\",\n",
    "    \"Jonathan\",\n",
    "    \"Jordan\",\n",
    "    \"Jordyn\",\n",
    "    \"Jorge\",\n",
    "    \"Jose\",\n",
    "    \"Joseph\",\n",
    "    \"Joshua\",\n",
    "    \"Josiah\",\n",
    "    \"Juan\",\n",
    "    \"Julia\",\n",
    "    \"Julian\",\n",
    "    \"Juliana\",\n",
    "    \"Justin\",\n",
    "    \"Kaden\",\n",
    "    \"Kaitlyn\",\n",
    "    \"Kaleb\",\n",
    "    \"Karen\",\n",
    "    \"Karina\",\n",
    "    \"Kate\",\n",
    "    \"Katelyn\",\n",
    "    \"Katherine\",\n",
    "    \"Kathryn\",\n",
    "    \"Katie\",\n",
    "    \"Kayla\",\n",
    "    \"Kaylee\",\n",
    "    \"Kelly\",\n",
    "    \"Kelsey\",\n",
    "    \"Kendall\",\n",
    "    \"Kennedy\",\n",
    "    \"Kenneth\",\n",
    "    \"Kevin\",\n",
    "    \"Kiara\",\n",
    "    \"Kimberly\",\n",
    "    \"Kyle\",\n",
    "    \"Kylee\",\n",
    "    \"Kylie\",\n",
    "    \"Landon\",\n",
    "    \"Laura\",\n",
    "    \"Lauren\",\n",
    "    \"Layla\",\n",
    "    \"Leah\",\n",
    "    \"Leonardo\",\n",
    "    \"Leslie\",\n",
    "    \"Levi\",\n",
    "    \"Liam\",\n",
    "    \"Liliana\",\n",
    "    \"Lillian\",\n",
    "    \"Lilly\",\n",
    "    \"Lily\",\n",
    "    \"Lindsey\",\n",
    "    \"Logan\",\n",
    "    \"Lucas\",\n",
    "    \"Lucy\",\n",
    "    \"Luis\",\n",
    "    \"Luke\",\n",
    "    \"Lydia\",\n",
    "    \"Mackenzie\",\n",
    "    \"Madeline\",\n",
    "    \"Madelyn\",\n",
    "    \"Madison\",\n",
    "    \"Makayla\",\n",
    "    \"Makenzie\",\n",
    "    \"Malachi\",\n",
    "    \"Manuel\",\n",
    "    \"Marco\",\n",
    "    \"Marcus\",\n",
    "    \"Margaret\",\n",
    "    \"Maria\",\n",
    "    \"Mariah\",\n",
    "    \"Mario\",\n",
    "    \"Marissa\",\n",
    "    \"Mark\",\n",
    "    \"Martin\",\n",
    "    \"Mary\",\n",
    "    \"Mason\",\n",
    "    \"Matthew\",\n",
    "    \"Max\",\n",
    "    \"Maxwell\",\n",
    "    \"Maya\",\n",
    "    \"Mckenzie\",\n",
    "    \"Megan\",\n",
    "    \"Melanie\",\n",
    "    \"Melissa\",\n",
    "    \"Mia\",\n",
    "    \"Micah\",\n",
    "    \"Michael\",\n",
    "    \"Michelle\",\n",
    "    \"Miguel\",\n",
    "    \"Mikayla\",\n",
    "    \"Miranda\",\n",
    "    \"Molly\",\n",
    "    \"Morgan\",\n",
    "    \"Mya\",\n",
    "    \"Naomi\",\n",
    "    \"Natalia\",\n",
    "    \"Natalie\",\n",
    "    \"Nathan\",\n",
    "    \"Nathaniel\",\n",
    "    \"Nevaeh\",\n",
    "    \"Nicholas\",\n",
    "    \"Nicolas\",\n",
    "    \"Nicole\",\n",
    "    \"Noah\",\n",
    "    \"Nolan\",\n",
    "    \"Oliver\",\n",
    "    \"Olivia\",\n",
    "    \"Omar\",\n",
    "    \"Oscar\",\n",
    "    \"Owen\",\n",
    "    \"Paige\",\n",
    "    \"Parker\",\n",
    "    \"Patrick\",\n",
    "    \"Paul\",\n",
    "    \"Payton\",\n",
    "    \"Peter\",\n",
    "    \"Peyton\",\n",
    "    \"Preston\",\n",
    "    \"Rachel\",\n",
    "    \"Raymond\",\n",
    "    \"Reagan\",\n",
    "    \"Rebecca\",\n",
    "    \"Ricardo\",\n",
    "    \"Richard\",\n",
    "    \"Riley\",\n",
    "    \"Robert\",\n",
    "    \"Ruby\",\n",
    "    \"Ryan\",\n",
    "    \"Rylee\",\n",
    "    \"Sabrina\",\n",
    "    \"Sadie\",\n",
    "    \"Samantha\",\n",
    "    \"Samuel\",\n",
    "    \"Sara\",\n",
    "    \"Sarah\",\n",
    "    \"Savannah\",\n",
    "    \"Sean\",\n",
    "    \"Sebastian\",\n",
    "    \"Serenity\",\n",
    "    \"Sergio\",\n",
    "    \"Seth\",\n",
    "    \"Shane\",\n",
    "    \"Shawn\",\n",
    "    \"Shelby\",\n",
    "    \"Sierra\",\n",
    "    \"Skylar\",\n",
    "    \"Sofia\",\n",
    "    \"Sophia\",\n",
    "    \"Sophie\",\n",
    "    \"Spencer\",\n",
    "    \"Stephanie\",\n",
    "    \"Stephen\",\n",
    "    \"Steven\",\n",
    "    \"Summer\",\n",
    "    \"Sydney\",\n",
    "    \"Tanner\",\n",
    "    \"Taylor\",\n",
    "    \"Thomas\",\n",
    "    \"Tiffany\",\n",
    "    \"Timothy\",\n",
    "    \"Travis\",\n",
    "    \"Trenton\",\n",
    "    \"Trevor\",\n",
    "    \"Trinity\",\n",
    "    \"Tristan\",\n",
    "    \"Tyler\",\n",
    "    \"Valeria\",\n",
    "    \"Valerie\",\n",
    "    \"Vanessa\",\n",
    "    \"Veronica\",\n",
    "    \"Victor\",\n",
    "    \"Victoria\",\n",
    "    \"Vincent\",\n",
    "    \"Wesley\",\n",
    "    \"William\",\n",
    "    \"Wyatt\",\n",
    "    \"Xavier\",\n",
    "    \"Zachary\",\n",
    "    \"Zoe\",\n",
    "    \"Zoey\"\n",
    "  ]"
   ]
  },
  {
   "cell_type": "code",
   "execution_count": 169,
   "metadata": {},
   "outputs": [],
   "source": [
    "relative=[\"mother\",\"father\",\"grandma\",\"grandpa\",\"sister\",\"brother\",\"husband\",\"wife\",\"son\",\"daughter\",\"cousin\",\"uncle\",\"aunty\",\"best friend\"]"
   ]
  },
  {
   "cell_type": "code",
   "execution_count": 170,
   "metadata": {},
   "outputs": [],
   "source": [
    "day=[\"monday\",\"tuesday\",\"wedenseday\",\"Thursday\",\"Friday\",\"Saturday\",\"Sunday\"]"
   ]
  },
  {
   "cell_type": "code",
   "execution_count": 171,
   "metadata": {},
   "outputs": [],
   "source": [
    "time=[\"morning\",\"evening\",\"afternoon\",\"evening\",\"midnight\",\"dawn\"]"
   ]
  },
  {
   "cell_type": "markdown",
   "metadata": {},
   "source": [
    "#### create a list of NYC neighborhood from a text file \"area\""
   ]
  },
  {
   "cell_type": "code",
   "execution_count": 172,
   "metadata": {
    "collapsed": true
   },
   "outputs": [],
   "source": [
    "test=eval(open(\"area.txt\").read())\n",
    "neighborhood=[]\n",
    "for item in test:\n",
    "    neighborhood.append (item['neighborhood'])"
   ]
  },
  {
   "cell_type": "markdown",
   "metadata": {},
   "source": [
    "#### create a list of cloths from a text file \"cloths\""
   ]
  },
  {
   "cell_type": "code",
   "execution_count": 173,
   "metadata": {},
   "outputs": [],
   "source": [
    "clothes=eval(open(\"clothes.txt\").read())"
   ]
  },
  {
   "cell_type": "markdown",
   "metadata": {},
   "source": [
    "#### create a list of everyday objects "
   ]
  },
  {
   "cell_type": "code",
   "execution_count": 174,
   "metadata": {
    "collapsed": true
   },
   "outputs": [],
   "source": [
    "objects=eval(open(\"objects.txt\").read())"
   ]
  },
  {
   "cell_type": "code",
   "execution_count": 175,
   "metadata": {
    "collapsed": true
   },
   "outputs": [],
   "source": [
    "verbphrase = [\"wake up\",\"fall on\",'blow up',\"fill up\"]\n",
    "color=['blue','orange','yellow','silver','red','violet']\n",
    "verb_noun=[\"dying\",\"blooming\",'glowing',\"hoaring\",\"silencing\"]"
   ]
  },
  {
   "cell_type": "code",
   "execution_count": 176,
   "metadata": {},
   "outputs": [
    {
     "name": "stdout",
     "output_type": "stream",
     "text": [
      "Requirement already satisfied: tracery in /Users/huiyi/anaconda3/lib/python3.6/site-packages\r\n"
     ]
    }
   ],
   "source": [
    "!pip install tracery"
   ]
  },
  {
   "cell_type": "code",
   "execution_count": 177,
   "metadata": {
    "collapsed": true
   },
   "outputs": [],
   "source": [
    "import tracery"
   ]
  },
  {
   "cell_type": "code",
   "execution_count": 178,
   "metadata": {
    "collapsed": true
   },
   "outputs": [],
   "source": [
    "from tracery.modifiers import base_english"
   ]
  },
  {
   "cell_type": "code",
   "execution_count": 179,
   "metadata": {},
   "outputs": [
    {
     "name": "stdout",
     "output_type": "stream",
     "text": [
      "Wedenseday evening, your violet shirt\n"
     ]
    }
   ],
   "source": [
    "rules = {\n",
    "    \"origin1\": \"#day.capitalize# #time#, your #color# #clothes#\",\n",
    "    \"day\": day,\n",
    "    \"time\": time,\n",
    "    \"color\": color,\n",
    "    \"clothes\": clothes,\n",
    "    \"verbphrase\":verbphrase,\n",
    "    \"objects\":objects,\n",
    "    \"clothes\":clothes\n",
    "}\n",
    "\n",
    "grammar = tracery.Grammar(rules)\n",
    "grammar.add_modifiers(base_english)\n",
    "flatten1=grammar.flatten(\"#origin1#\")\n",
    "print(flatten1)"
   ]
  },
  {
   "cell_type": "code",
   "execution_count": 180,
   "metadata": {},
   "outputs": [
    {
     "name": "stdout",
     "output_type": "stream",
     "text": [
      "shirt\n"
     ]
    }
   ],
   "source": [
    "sentence1_end = flatten1.split()[-1]\n",
    "print(sentence1_end)"
   ]
  },
  {
   "cell_type": "code",
   "execution_count": 181,
   "metadata": {},
   "outputs": [
    {
     "name": "stdout",
     "output_type": "stream",
     "text": [
      "Shirt blow up the toy top\n"
     ]
    }
   ],
   "source": [
    "rules={\n",
    "    \"origin2\":\"#sentence1_end.capitalize# #verbphrase# the #objects#\",\n",
    "    \"verbphrase\":verbphrase,\n",
    "    \"objects\":objects,\n",
    "    \"clothes\":clothes,\n",
    "    \"sentence1_end\":sentence1_end\n",
    "}\n",
    "grammar = tracery.Grammar(rules)\n",
    "grammar.add_modifiers(base_english)\n",
    "flatten2=grammar.flatten(\"#origin2#\")\n",
    "print(flatten2)"
   ]
  },
  {
   "cell_type": "code",
   "execution_count": 182,
   "metadata": {},
   "outputs": [
    {
     "name": "stdout",
     "output_type": "stream",
     "text": [
      "top\n"
     ]
    }
   ],
   "source": [
    "sentence2_end = flatten2.split()[-1]\n",
    "print(sentence2_end)"
   ]
  },
  {
   "cell_type": "code",
   "execution_count": 183,
   "metadata": {},
   "outputs": [
    {
     "name": "stdout",
     "output_type": "stream",
     "text": [
      "Top hoaring\n"
     ]
    }
   ],
   "source": [
    "rules={\n",
    "    \"origin3\":\"#sentence2_end.capitalize# #verb_noun#\",\n",
    "    \"verb_noun\":verb_noun,\n",
    "    \"sentence2_end\":sentence2_end\n",
    "}\n",
    "grammar = tracery.Grammar(rules)\n",
    "grammar.add_modifiers(base_english)\n",
    "flatten3=grammar.flatten(\"#origin3#\")\n",
    "print(flatten3)"
   ]
  },
  {
   "cell_type": "code",
   "execution_count": 184,
   "metadata": {},
   "outputs": [
    {
     "name": "stdout",
     "output_type": "stream",
     "text": [
      "hoaring\n"
     ]
    }
   ],
   "source": [
    "sentence3_end = flatten3.split()[-1]\n",
    "print(sentence3_end)"
   ]
  },
  {
   "cell_type": "code",
   "execution_count": 185,
   "metadata": {},
   "outputs": [],
   "source": [
    "rules={\n",
    "    \"origin4\":\"#sentence3_end.capitalize# for the smell of your #objects#\",\n",
    "    \"origin5\":\"#name.capitalize#,my #relatives#\",\n",
    "    \"origin6\":\"Wish you #ending#\",\n",
    "    \"name\":names,\n",
    "    \"relatives\":relative,\n",
    "    \"ending\":[\"have a great dream\",\"in piece\",\"have eternal happiness\"],\n",
    "    \"objects\":objects,\n",
    "    \"sentence3_end\":sentence3_end\n",
    "}\n",
    "grammar = tracery.Grammar(rules)\n",
    "grammar.add_modifiers(base_english)\n",
    "flatten4=grammar.flatten(\"#origin4#\")\n",
    "flatten5=grammar.flatten(\"#origin5#\")\n",
    "flatten6=grammar.flatten(\"#origin6#\")"
   ]
  },
  {
   "cell_type": "code",
   "execution_count": 186,
   "metadata": {},
   "outputs": [
    {
     "name": "stdout",
     "output_type": "stream",
     "text": [
      "Wedenseday evening, your violet shirt\n",
      "Shirt blow up the toy top\n",
      "Top hoaring\n",
      "Hoaring for the smell of your toy top\n",
      "Joseph,my wife\n",
      "Wish you have eternal happiness\n"
     ]
    }
   ],
   "source": [
    "print(flatten1)\n",
    "print(flatten2)\n",
    "print(flatten3)\n",
    "print(flatten4)\n",
    "print(flatten5)\n",
    "print(flatten6)"
   ]
  },
  {
   "cell_type": "code",
   "execution_count": null,
   "metadata": {
    "collapsed": true
   },
   "outputs": [],
   "source": []
  },
  {
   "cell_type": "code",
   "execution_count": null,
   "metadata": {
    "collapsed": true
   },
   "outputs": [],
   "source": []
  },
  {
   "cell_type": "code",
   "execution_count": null,
   "metadata": {
    "collapsed": true
   },
   "outputs": [],
   "source": []
  },
  {
   "cell_type": "code",
   "execution_count": null,
   "metadata": {
    "collapsed": true
   },
   "outputs": [],
   "source": []
  }
 ],
 "metadata": {
  "kernelspec": {
   "display_name": "Python 3",
   "language": "python",
   "name": "python3"
  },
  "language_info": {
   "codemirror_mode": {
    "name": "ipython",
    "version": 3
   },
   "file_extension": ".py",
   "mimetype": "text/x-python",
   "name": "python",
   "nbconvert_exporter": "python",
   "pygments_lexer": "ipython3",
   "version": "3.6.3"
  }
 },
 "nbformat": 4,
 "nbformat_minor": 2
}
