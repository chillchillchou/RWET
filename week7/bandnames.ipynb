{
 "cells": [
  {
   "cell_type": "code",
   "execution_count": 1,
   "metadata": {},
   "outputs": [],
   "source": [
    "\n",
    "\"Bo Diddley\",\n",
    "\"The Velvet Underground\",\n",
    "\"Marvin Gaye\",\n",
    "\"The Rolling Stones\",\n",
    "    \"Led Zeppelin\",\n",
    "    \"ABBA\",\n",
    "    \"Simon and Garfunkel\",\n",
    "    \"T. Rex\",\n",
    "    \"The Monkees\",\n",
    "    \"New Order\",\n",
    "    \"Maroon 5\",\n",
    "    \"Bruce Springsteen\",\n",
    "    \"OneRepublic\",\n",
    "    \"The Carpenters\",\n",
    "    \"The Carpenters\",\n",
    "    \"The Turtles\",\n",
    "    \"Electric Light Orchestra\",\n",
    "    \"Massive Attack\",\n",
    "    \"Judas Priest\",\n",
    "    \"Pink Floyd\",\n",
    "    \"The Grateful Dead\",\n",
    "    \"Eagles\",\n",
    "    \"The Veronicas\",\n",
    "    \"Arctic Monkey\",\n",
    "]"
   ]
  },
  {
   "cell_type": "code",
   "execution_count": null,
   "metadata": {},
   "outputs": [],
   "source": []
  }
 ],
 "metadata": {
  "kernelspec": {
   "display_name": "Python 3",
   "language": "python",
   "name": "python3"
  },
  "language_info": {
   "codemirror_mode": {
    "name": "ipython",
    "version": 3
   },
   "file_extension": ".py",
   "mimetype": "text/x-python",
   "name": "python",
   "nbconvert_exporter": "python",
   "pygments_lexer": "ipython3",
   "version": "3.6.4"
  }
 },
 "nbformat": 4,
 "nbformat_minor": 2
}
