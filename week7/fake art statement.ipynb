{
 "cells": [
  {
   "cell_type": "code",
   "execution_count": 3,
   "metadata": {},
   "outputs": [],
   "source": [
    "from shmarkov import *"
   ]
  },
  {
   "cell_type": "code",
   "execution_count": 4,
   "metadata": {},
   "outputs": [
    {
     "name": "stdout",
     "output_type": "stream",
     "text": [
      "Solving environment: failed\n",
      "\n",
      "UnsatisfiableError: The following specifications were found to be in conflict:\n",
      "  - keras\n",
      "  - numba\n",
      "Use \"conda info <package>\" to see the dependencies for each package.\n",
      "\n"
     ]
    }
   ],
   "source": [
    "!conda install -y keras"
   ]
  },
  {
   "cell_type": "code",
   "execution_count": 7,
   "metadata": {},
   "outputs": [
    {
     "name": "stdout",
     "output_type": "stream",
     "text": [
      "Collecting textgenrnn\n",
      "  Downloading textgenrnn-0.1.1.tar.gz (777kB)\n",
      "\u001b[K    100% |████████████████████████████████| 778kB 1.4MB/s ta 0:00:011\n",
      "\u001b[?25hCollecting tensorflow (from textgenrnn)\n",
      "  Downloading tensorflow-1.7.0-cp36-cp36m-macosx_10_11_x86_64.whl (45.3MB)\n",
      "\u001b[K    100% |████████████████████████████████| 45.3MB 28kB/s  eta 0:00:01    74% |███████████████████████▉        | 33.8MB 41.4MB/s eta 0:00:01\n",
      "\u001b[?25hCollecting keras (from textgenrnn)\n",
      "  Downloading Keras-2.1.5-py2.py3-none-any.whl (334kB)\n",
      "\u001b[K    100% |████████████████████████████████| 337kB 3.2MB/s eta 0:00:01\n",
      "\u001b[?25hRequirement already satisfied: h5py in /Users/huiyi/anaconda3/lib/python3.6/site-packages (from textgenrnn)\n",
      "Collecting gast>=0.2.0 (from tensorflow->textgenrnn)\n",
      "  Downloading gast-0.2.0.tar.gz\n",
      "Collecting grpcio>=1.8.6 (from tensorflow->textgenrnn)\n",
      "  Downloading grpcio-1.10.0-cp36-cp36m-macosx_10_11_x86_64.whl (1.5MB)\n",
      "\u001b[K    100% |████████████████████████████████| 1.5MB 814kB/s eta 0:00:01    48% |███████████████▋                | 727kB 52.8MB/s eta 0:00:01\n",
      "\u001b[?25hRequirement already satisfied: six>=1.10.0 in /Users/huiyi/anaconda3/lib/python3.6/site-packages (from tensorflow->textgenrnn)\n",
      "Collecting astor>=0.6.0 (from tensorflow->textgenrnn)\n",
      "  Downloading astor-0.6.2-py2.py3-none-any.whl\n",
      "Requirement already satisfied: numpy>=1.13.3 in /Users/huiyi/anaconda3/lib/python3.6/site-packages (from tensorflow->textgenrnn)\n",
      "Collecting protobuf>=3.4.0 (from tensorflow->textgenrnn)\n",
      "  Downloading protobuf-3.5.2.post1-cp36-cp36m-macosx_10_6_intel.macosx_10_9_intel.macosx_10_9_x86_64.macosx_10_10_intel.macosx_10_10_x86_64.whl (1.2MB)\n",
      "\u001b[K    100% |████████████████████████████████| 1.2MB 784kB/s eta 0:00:01\n",
      "\u001b[?25hCollecting absl-py>=0.1.6 (from tensorflow->textgenrnn)\n",
      "  Downloading absl-py-0.1.13.tar.gz (80kB)\n",
      "\u001b[K    100% |████████████████████████████████| 81kB 6.2MB/s eta 0:00:01\n",
      "\u001b[?25hCollecting termcolor>=1.1.0 (from tensorflow->textgenrnn)\n",
      "  Downloading termcolor-1.1.0.tar.gz\n",
      "Collecting tensorboard<1.8.0,>=1.7.0 (from tensorflow->textgenrnn)\n",
      "  Downloading tensorboard-1.7.0-py3-none-any.whl (3.1MB)\n",
      "\u001b[K    100% |████████████████████████████████| 3.1MB 388kB/s eta 0:00:01\n",
      "\u001b[?25hRequirement already satisfied: wheel>=0.26 in /Users/huiyi/anaconda3/lib/python3.6/site-packages (from tensorflow->textgenrnn)\n",
      "Requirement already satisfied: pyyaml in /Users/huiyi/anaconda3/lib/python3.6/site-packages (from keras->textgenrnn)\n",
      "Requirement already satisfied: scipy>=0.14 in /Users/huiyi/anaconda3/lib/python3.6/site-packages (from keras->textgenrnn)\n",
      "Requirement already satisfied: setuptools in /Users/huiyi/anaconda3/lib/python3.6/site-packages (from protobuf>=3.4.0->tensorflow->textgenrnn)\n",
      "Collecting markdown>=2.6.8 (from tensorboard<1.8.0,>=1.7.0->tensorflow->textgenrnn)\n",
      "  Downloading Markdown-2.6.11-py2.py3-none-any.whl (78kB)\n",
      "\u001b[K    100% |████████████████████████████████| 81kB 4.9MB/s ta 0:00:011\n",
      "\u001b[?25hRequirement already satisfied: werkzeug>=0.11.10 in /Users/huiyi/anaconda3/lib/python3.6/site-packages (from tensorboard<1.8.0,>=1.7.0->tensorflow->textgenrnn)\n",
      "Collecting html5lib==0.9999999 (from tensorboard<1.8.0,>=1.7.0->tensorflow->textgenrnn)\n",
      "  Downloading html5lib-0.9999999.tar.gz (889kB)\n",
      "\u001b[K    100% |████████████████████████████████| 890kB 1.0MB/s eta 0:00:01\n",
      "\u001b[?25hCollecting bleach==1.5.0 (from tensorboard<1.8.0,>=1.7.0->tensorflow->textgenrnn)\n",
      "  Downloading bleach-1.5.0-py2.py3-none-any.whl\n",
      "Building wheels for collected packages: textgenrnn, gast, absl-py, termcolor, html5lib\n",
      "  Running setup.py bdist_wheel for textgenrnn ... \u001b[?25ldone\n",
      "\u001b[?25h  Stored in directory: /Users/huiyi/Library/Caches/pip/wheels/59/b1/4a/b5ee074f89a4fb3632930705658c28ba38cfacd38f29bc1340\n",
      "  Running setup.py bdist_wheel for gast ... \u001b[?25ldone\n",
      "\u001b[?25h  Stored in directory: /Users/huiyi/Library/Caches/pip/wheels/8e/fa/d6/77dd17d18ea23fd7b860e02623d27c1be451521af40dd4a13e\n",
      "  Running setup.py bdist_wheel for absl-py ... \u001b[?25ldone\n",
      "\u001b[?25h  Stored in directory: /Users/huiyi/Library/Caches/pip/wheels/76/f7/0c/88796d7212af59bb2f496b12267e0605f205170781e9b86479\n",
      "  Running setup.py bdist_wheel for termcolor ... \u001b[?25ldone\n",
      "\u001b[?25h  Stored in directory: /Users/huiyi/Library/Caches/pip/wheels/de/f7/bf/1bcac7bf30549e6a4957382e2ecab04c88e513117207067b03\n",
      "  Running setup.py bdist_wheel for html5lib ... \u001b[?25ldone\n",
      "\u001b[?25h  Stored in directory: /Users/huiyi/Library/Caches/pip/wheels/6f/85/6c/56b8e1292c6214c4eb73b9dda50f53e8e977bf65989373c962\n",
      "Successfully built textgenrnn gast absl-py termcolor html5lib\n",
      "Installing collected packages: gast, protobuf, grpcio, astor, absl-py, termcolor, markdown, html5lib, bleach, tensorboard, tensorflow, keras, textgenrnn\n",
      "  Found existing installation: html5lib 1.0.1\n",
      "    Uninstalling html5lib-1.0.1:\n",
      "      Successfully uninstalled html5lib-1.0.1\n",
      "  Found existing installation: bleach 2.1.2\n",
      "    Uninstalling bleach-2.1.2:\n",
      "      Successfully uninstalled bleach-2.1.2\n",
      "Successfully installed absl-py-0.1.13 astor-0.6.2 bleach-1.5.0 gast-0.2.0 grpcio-1.10.0 html5lib-0.9999999 keras-2.1.5 markdown-2.6.11 protobuf-3.5.2.post1 tensorboard-1.7.0 tensorflow-1.7.0 termcolor-1.1.0 textgenrnn-0.1.1\n",
      "\u001b[33mYou are using pip version 9.0.1, however version 9.0.3 is available.\n",
      "You should consider upgrading via the 'pip install --upgrade pip' command.\u001b[0m\n"
     ]
    }
   ],
   "source": [
    "!pip install textgenrnn"
   ]
  },
  {
   "cell_type": "code",
   "execution_count": 10,
   "metadata": {},
   "outputs": [
    {
     "name": "stderr",
     "output_type": "stream",
     "text": [
      "/Users/huiyi/anaconda3/lib/python3.6/site-packages/h5py/__init__.py:36: FutureWarning: Conversion of the second argument of issubdtype from `float` to `np.floating` is deprecated. In future, it will be treated as `np.float64 == np.dtype(float).type`.\n",
      "  from ._conv import register_converters as _register_converters\n",
      "Using TensorFlow backend.\n"
     ]
    }
   ],
   "source": [
    "from textgenrnn import textgenrnn"
   ]
  },
  {
   "cell_type": "code",
   "execution_count": 11,
   "metadata": {},
   "outputs": [],
   "source": [
    "textgen = textgenrnn()"
   ]
  },
  {
   "cell_type": "code",
   "execution_count": 27,
   "metadata": {},
   "outputs": [],
   "source": [
    "import json\n",
    "band_data = json.loads(open(\"bandnames.json\").read())\n",
    "names = band_data['band']"
   ]
  },
  {
   "cell_type": "code",
   "execution_count": 32,
   "metadata": {},
   "outputs": [
    {
     "name": "stdout",
     "output_type": "stream",
     "text": [
      "Epoch 1/30\n",
      "330/330 [==============================] - 0s 1ms/step - loss: 0.8917\n",
      "Epoch 2/30\n",
      "330/330 [==============================] - 0s 1ms/step - loss: 0.8118\n",
      "Epoch 3/30\n",
      "330/330 [==============================] - 0s 1ms/step - loss: 0.7451\n",
      "Epoch 4/30\n",
      "330/330 [==============================] - 1s 2ms/step - loss: 0.6901\n",
      "Epoch 5/30\n",
      "330/330 [==============================] - 0s 1ms/step - loss: 0.6459\n",
      "Epoch 6/30\n",
      "330/330 [==============================] - 0s 1ms/step - loss: 0.6135\n",
      "Epoch 7/30\n",
      "330/330 [==============================] - 0s 1ms/step - loss: 0.5848\n",
      "Epoch 8/30\n",
      "330/330 [==============================] - 0s 1ms/step - loss: 0.5605\n",
      "Epoch 9/30\n",
      "330/330 [==============================] - 0s 1ms/step - loss: 0.5416\n",
      "Epoch 10/30\n",
      "330/330 [==============================] - 0s 952us/step - loss: 0.5236\n",
      "Epoch 11/30\n",
      "330/330 [==============================] - 0s 1ms/step - loss: 0.5088\n",
      "Epoch 12/30\n",
      "330/330 [==============================] - 0s 1ms/step - loss: 0.4948\n",
      "Epoch 13/30\n",
      "330/330 [==============================] - 0s 971us/step - loss: 0.4850\n",
      "Epoch 14/30\n",
      "330/330 [==============================] - 0s 1ms/step - loss: 0.4750\n",
      "Epoch 15/30\n",
      "330/330 [==============================] - 1s 2ms/step - loss: 0.4662\n",
      "Epoch 16/30\n",
      "330/330 [==============================] - 1s 2ms/step - loss: 0.4580\n",
      "Epoch 17/30\n",
      "330/330 [==============================] - 0s 1ms/step - loss: 0.4512\n",
      "Epoch 18/30\n",
      "330/330 [==============================] - 0s 1ms/step - loss: 0.4450\n",
      "Epoch 19/30\n",
      "330/330 [==============================] - 0s 1ms/step - loss: 0.4385\n",
      "Epoch 20/30\n",
      "330/330 [==============================] - 0s 2ms/step - loss: 0.4348\n",
      "Epoch 21/30\n",
      "330/330 [==============================] - 0s 1ms/step - loss: 0.4302\n",
      "Epoch 22/30\n",
      "330/330 [==============================] - 0s 1ms/step - loss: 0.4260\n",
      "Epoch 23/30\n",
      "330/330 [==============================] - 0s 1ms/step - loss: 0.4228\n",
      "Epoch 24/30\n",
      "330/330 [==============================] - 0s 1ms/step - loss: 0.4195\n",
      "Epoch 25/30\n",
      "330/330 [==============================] - 0s 1ms/step - loss: 0.4168\n",
      "Epoch 26/30\n",
      "330/330 [==============================] - 0s 1ms/step - loss: 0.4145\n",
      "Epoch 27/30\n",
      "330/330 [==============================] - 0s 1ms/step - loss: 0.4127\n",
      "Epoch 28/30\n",
      "330/330 [==============================] - 0s 1ms/step - loss: 0.4111\n",
      "Epoch 29/30\n",
      "330/330 [==============================] - 0s 972us/step - loss: 0.4097\n",
      "Epoch 30/30\n",
      "330/330 [==============================] - 0s 1ms/step - loss: 0.4089\n"
     ]
    }
   ],
   "source": [
    "textgen.train_on_texts(names, num_epochs=30)"
   ]
  },
  {
   "cell_type": "code",
   "execution_count": 36,
   "metadata": {},
   "outputs": [],
   "source": [
    "new_bands = textgen.generate(25, temperature=1, return_as_list=True)"
   ]
  },
  {
   "cell_type": "code",
   "execution_count": 37,
   "metadata": {},
   "outputs": [
    {
     "name": "stdout",
     "output_type": "stream",
     "text": [
      "['Flugs', 'Maroon 5', 'The Voltest', 'Undeterstine', 'Massive Arctic Repuel', 'Carpentesting Orchestra', 'Verprass Led Zeppealin', 'The Rolunters', 'Judas Bus Marvin Donestly', 'The Carpenters', 'The Grateful Olivelvesta', 'The Verons', 'AMric', 'The Turk Spres', 'Led Zighter OrchestFerphoming', 'The Monkees', 'Marvis Sinking', 'The Grateful Spar Dead', 'Arctic Spoilerver Turtles', 'ABBA', 'Arresch', 'ABBA', 'Wednesdays, Lone Dead', 'The Veracoter', 'Electric Order']\n"
     ]
    }
   ],
   "source": [
    "print(new_bands)"
   ]
  },
  {
   "cell_type": "code",
   "execution_count": 49,
   "metadata": {},
   "outputs": [
    {
     "data": {
      "text/plain": [
       "list"
      ]
     },
     "execution_count": 49,
     "metadata": {},
     "output_type": "execute_result"
    }
   ],
   "source": [
    "type(new_bands)"
   ]
  },
  {
   "cell_type": "code",
   "execution_count": 42,
   "metadata": {},
   "outputs": [],
   "source": [
    "genesis_word_model = markov_model(3, open(\"art_statement.txt\").read().split())"
   ]
  },
  {
   "cell_type": "code",
   "execution_count": 84,
   "metadata": {},
   "outputs": [
    {
     "name": "stdout",
     "output_type": "stream",
     "text": [
      "questioning the attitudes, fears and unwritten rules which have formed that environment and our behavior within it. I like it when a place has been around long enough that there is a connection between them, and an environment of order. Home is a place not only of comfort, but of control. This sense of order, in whatever form it takes, acts as a shield against the unpredictability and lurking chaos of the outside world. Later, tiny windows started to appear. And then I began to develop an interest in the relationship between two figures. The figures of this phase are turned in on\n"
     ]
    }
   ],
   "source": [
    "generated_words = gen_from_model(3, genesis_word_model)\n",
    "print(' '.join(generated_words))"
   ]
  },
  {
   "cell_type": "code",
   "execution_count": 50,
   "metadata": {},
   "outputs": [],
   "source": [
    "import tracery"
   ]
  },
  {
   "cell_type": "code",
   "execution_count": 51,
   "metadata": {},
   "outputs": [
    {
     "data": {
      "text/plain": [
       "{'a': <function tracery.modifiers.a>,\n",
       " 'capitalize': <function tracery.modifiers.capitalize_>,\n",
       " 'capitalizeAll': <function tracery.modifiers.capitalizeAll>,\n",
       " 'ed': <function tracery.modifiers.ed>,\n",
       " 'firstS': <function tracery.modifiers.firstS>,\n",
       " 'lowercase': <function tracery.modifiers.lowercase>,\n",
       " 'replace': <function tracery.modifiers.replace>,\n",
       " 's': <function tracery.modifiers.s>,\n",
       " 'uppercase': <function tracery.modifiers.uppercase>}"
      ]
     },
     "execution_count": 51,
     "metadata": {},
     "output_type": "execute_result"
    }
   ],
   "source": [
    "from tracery.modifiers import base_english\n",
    "base_english"
   ]
  },
  {
   "cell_type": "code",
   "execution_count": 74,
   "metadata": {},
   "outputs": [
    {
     "name": "stdout",
     "output_type": "stream",
     "text": [
      "['2-step', '4-beat', 'Acid breaks', 'Acid house', 'Acid jazz', 'Acid rock', 'Acid techno', 'Acid trance', 'Aggrotech', 'Alternative dance', 'Alternative metal', 'Alternative rock', 'Ambient dub', 'Ambient house', 'Ambient techno', 'Ambient', 'Anarcho punk', 'Anti-folk', 'Art punk', 'Art rock', 'Asian Underground', 'Avant-garde jazz', 'Baggy', 'Balearic Beat', 'Baltimore Club', 'Bassline', 'Beat music', 'Bebop', 'Big beat', 'Bitpop', 'Black metal', 'Boogie-woogie', 'Boogie', 'Bossa nova', 'Bouncy house', 'Bouncy techno', 'Breakbeat hardcore', 'Breakbeat', 'Breakcore', 'Breakstep', 'British dance', 'Britpop', 'Broken beat', 'Bubblegum dance', 'Canterbury scene', 'Cape jazz', 'Celtic metal', 'Celtic punk', 'Celtic', 'Chamber jazz', 'Chicago house', 'Chill out', 'Chillwave', 'Chinese rock', 'Chiptune', 'Christian metal', 'Christian punk', 'Christian rock', 'Classic trance', 'Coldwave', 'Contemporary folk', 'Continental Jazz', 'Cool jazz', 'Cosmic disco', 'Cowpunk', 'Crossover jazz', 'Crossover thrash', 'Crunk', 'Crust punk', 'Crustgrind', 'Cybergrind', 'D-beat', 'Dance-pop', 'Dance-punk', 'Dance-rock', 'Dark ambient', 'Dark cabaret', 'Dark electro', 'Dark psytrance', 'Dark Wave', 'Darkcore', 'Darkside jungle', 'Darkstep', 'Death industrial', 'Death metal', 'Deathcore', 'Deathrock', 'Deep house', 'Desert rock', 'Detroit techno', 'Digital hardcore', 'Disco house', 'Disco polo', 'Disco', 'Diva house', 'Dixieland', 'Djent', 'Doom metal', 'Doomcore', 'Downtempo', 'Dream house', 'Dream pop', 'Dream trance', 'Drone metal', 'Drone', 'Drum and bass', 'Drumfunk', 'Drumstep', 'Dub', 'Dubstep', 'Dubstyle', 'Dubtronica', 'Dunedin Sound', 'Dutch house', 'EDM', 'Electro backbeat', 'Electro house', 'Electro-grime', 'Electro-industrial', 'Electro', 'Electroacoustic', 'Electroclash', 'Electronic art music', 'Electronic rock', 'Electronica', 'Electronicore', 'Electropop', 'Electropunk', 'Emo', 'Epic doom', 'Ethereal wave', 'Ethnic electronica', 'Euro disco', 'Eurobeat', 'Eurodance', 'European free jazz', 'Europop', 'Experimental rock', 'Filk', 'Florida breaks', 'Folk metal', 'Folk punk', 'Folk rock', 'Folk', 'Folktronica', 'Freak folk', 'Freakbeat', 'Free tekno', 'Freestyle house', 'Freestyle', 'French house', 'Full on', 'Funeral doom', 'Funk metal', 'Funky house', 'Funky', 'Futurepop', 'Gabber', 'Garage punk', 'Garage rock', 'Ghetto house', 'Ghettotech', 'Glam metal', 'Glam rock', 'Glitch', 'Goregrind', 'Gothic metal', 'Gothic rock', 'Grime', 'Grindcore', 'Groove metal', 'Grunge', 'Happy hardcore', 'Hard bop', 'Hard NRG', 'Hard rock', 'Hard trance', 'Hardbag', 'Hardcore punk', 'Hardcore/Hard dance', 'Hardstep', 'Hardstyle', 'Heavy metal', 'Hi-NRG', 'Hip house', 'Horror punk', 'House', 'IDM', 'Illbient', 'Indie folk', 'Indie pop', 'Indie rock', 'Indietronica', 'Industrial folk', 'Industrial metal', 'Industrial rock', 'Industrial', 'Intelligent drum and bass', 'Italo dance', 'Italo disco', 'Italo house', 'Japanoise', 'Jazz blues', 'Jazz fusion', 'Jazz rap', 'Jazz rock', 'Jazz-funk', 'Jump-Up', 'Jumpstyle', 'Krautrock', 'Laptronica', 'Latin house', 'Latin jazz', 'Liquid funk', 'Livetronica', 'Lowercase', 'Madchester', 'Mainstream jazz', 'Makina', 'Math rock', 'Mathcore', 'Medieval metal', 'Melodic death metal', 'Metalcore', 'Minimal house/Microhouse', 'Minimal', 'Modal jazz', 'Moombahton', 'Neo-bop jazz', 'Neo-psychedelia', 'Neo-swing', 'Neofolk', 'Neurofunk', 'New Beat', 'New jack swing', 'New prog', 'New rave', 'New wave', 'New-age', 'Nintendocore', 'No wave', 'Noise pop', 'Noise rock', 'Noise', 'Noisegrind', 'Nortec', 'Novelty ragtime', 'Nu jazz', 'Nu metal', 'Nu skool breaks', 'Nu-disco', 'Oldschool jungle', 'Orchestral jazz', 'Orchestral Uplifting', 'Paisley Underground', 'Pop punk', 'Pop rock', 'Post-bop', 'Post-Britpop', 'Post-disco', 'Post-grunge', 'Post-hardcore', 'Post-metal', 'Post-punk revival', 'Post-punk', 'Post-rock', 'Power electronics', 'Power metal', 'Power noise', 'Power pop', 'Powerviolence', 'Progressive breaks', 'Progressive drum & bass', 'Progressive folk', 'Progressive house', 'Progressive metal', 'Progressive rock', 'Progressive techno', 'Progressive', 'Psybreaks', 'Psychedelic folk', 'Psychedelic rock', 'Psychedelic trance', 'Psychobilly', 'Psyprog', 'Punk jazz', 'Punk rock', 'Raga rock', 'Ragga-jungle', 'Raggacore', 'Ragtime', 'Rap metal', 'Rap rock', 'Rapcore', 'Riot grrrl', 'Rock and roll', 'Rock in Opposition', 'Sadcore', 'Sambass', 'Screamo', 'Shibuya-kei', 'Shoegaze', 'Ska jazz', 'Ska punk', 'Skate punk', 'Skweee', 'Slowcore', 'Sludge metal', 'Smooth jazz', 'Soft rock', 'Soul jazz', 'Sound art', 'Southern rock', 'Space disco', 'Space house', 'Space rock', 'Speed garage', 'Speed metal', 'Speedcore', 'Stoner rock', 'Straight-ahead jazz', 'Street punk', 'Stride jazz', 'Sufi rock', 'Sung poetry', 'Suomisaundi', 'Surf rock', 'Swing house', 'Swing', 'Symphonic metal', 'Synthcore', 'Synthpop', 'Synthpunk', 'Tech house', 'Tech trance', 'Technical death metal', 'Techno-DNB', 'Techno-folk', 'Techno', 'Technopop', 'Techstep', 'Tecno brega', 'Terrorcore', 'Third stream', 'Thrash metal', 'Thrashcore', 'Toytown Techno', 'Trad jazz', 'Traditional doom', 'Trance', 'Trap', 'Tribal house', 'Trip hop', 'Turbofolk', 'Twee Pop', 'Uplifting trance', 'Viking metal', 'Vocal house', 'Vocal jazz', 'Vocal trance', 'West Coast jazz', 'Western', 'Witch House/Drag', 'World fusion', 'Worldbeat', 'Yacht rock', 'Yorkshire Bleeps and Bass']\n"
     ]
    }
   ],
   "source": [
    "genre_data = json.loads(open(\"genre.json\").read())\n",
    "genres = genre_data['genres']\n",
    "print(genres)"
   ]
  },
  {
   "cell_type": "code",
   "execution_count": 81,
   "metadata": {},
   "outputs": [
    {
     "data": {
      "text/plain": [
       "'Verprass Led Zeppealin is a New York based Latin house band.'"
      ]
     },
     "execution_count": 81,
     "metadata": {},
     "output_type": "execute_result"
    }
   ],
   "source": [
    "rules = {\n",
    "    \"origin\": \"#new_bands# is a New York based #genres# band.\",\n",
    "    \"new_bands\": new_bands,\n",
    "    \"genres\":genres\n",
    "}\n",
    "grammar = tracery.Grammar(rules)\n",
    "grammar.add_modifiers(base_english)"
   ]
  },
  {
   "cell_type": "code",
   "execution_count": 102,
   "metadata": {},
   "outputs": [
    {
     "name": "stdout",
     "output_type": "stream",
     "text": [
      "Massive Arctic Repuel is a New York based Mainstream jazz band.\n",
      "\n",
      "They question its visual absence and sometime tactile presence. Fortunately, with today’s advanced technology such as computer programs and high bass speakers, I have been given alternative access to sound. It does not necessarily mean that it’s a mere substitute or replacement of sound.\n",
      "\n",
      "\n",
      "Arctic Spoilerver Turtles is a New York based Electropop band.\n",
      "\n",
      "They in my work. There is consistent flexibility and changeability, evidencing the relentless flux of events My work grows from the duel between the isolated individual and the shared awareness of the group. At first I made single figures without any freedom at all: blind houses without any openings, any relation to the outside world. Later, tiny windows started to appear. And then I began to develop an interest in the relationship between two figures. The figures of this phase are turned in on themselves, but they try to be together even though they may not succeed in reaching each other Gradually the relations\n",
      "\n",
      "\n",
      "ABBA is a New York based Japanoise band.\n",
      "\n",
      "They texture, makes it a perfect medium for exploring the iconic meaning of dress and the concept of shelter. Capturing the light is everything! As a plein air painter, it is always my intention to approach sound by constantly pushing it to a different level of physicality, and despite my complex relationship with Deaf culture, I attempt to translate sound while unlearning society’s views and etiquettes around it. Using my conceptual judgment and compromised understanding, I challenge and question its visual absence and sometime tactile presence. Fortunately, with today’s advanced technology such as computer programs and high bass speakers, I have been given alternative\n",
      "\n",
      "\n",
      "The Carpenters is a New York based Hardcore/Hard dance band.\n",
      "\n",
      "They plein air painter, it is always the light that I remember most about any location. It is my inspiration Its elusive quality can transform a figure or a landscape in just a matter of seconds. I strive to convey that sense of place by capturing its fleeting magic. Getting outside is good for the soul. Through my artwork, I try to bring the outside in. While I make no attempt to portray actual plants or animals, I do want my creations to look like they could have lived or grown somewhere. Living with beautiful objects that pay tribute to the natural world reminds\n",
      "\n",
      "\n",
      "Massive Arctic Repuel is a New York based Stoner rock band.\n",
      "\n",
      "They appear. And then I began to develop an interest in the relationship between two figures. The figures of this phase are turned in on themselves, but they try to be together even though they may not succeed in reaching each other Gradually the relations between the figures I made became freer and more subtle, and now I see my works as groups of objects relating to each other. Although ultimately each can and does stand alone, the figures can be grouped in various ways and fashions, and each time the tension of their relations makes for a different formal arrangement. For this reason\n",
      "\n",
      "\n",
      "Massive Arctic Repuel is a New York based Third stream band.\n",
      "\n",
      "They visual and performance artist, it is always the light that I remember most about any location. It is my inspiration Its elusive quality can transform a figure or a landscape in just a matter of seconds. I strive to convey that sense of place by capturing its fleeting magic. Getting outside is good for the soul. Through my artwork, I try to expand and contract as far as possible between limits known and unknown. Generally, I couldn’t talk about limits I know. I only can say at times I feel closer to them, particularly while doing or after having done some conceptual series….\n",
      "\n",
      "\n",
      "The Rolunters is a New York based Crunk band.\n",
      "\n",
      "They to portray actual plants or animals, I do want my creations to look like they could have lived or grown somewhere. Living with beautiful objects that pay tribute to the natural world reminds us to slow down and helps us reconnect with nature. My subject matter is nature, whether it is a traditional landscape or a bird and flower painting. I use traditional materials, ink and brush on rice paper, to capture movement and life — making the brush dance and the ink sing. Everything is captured in the spontaneous dance and movement of the brush as it meets the rice paper. There\n",
      "\n",
      "\n",
      "The Veracoter is a New York based Post-punk band.\n",
      "\n",
      "They it a perfect medium for exploring the iconic meaning of dress and the concept of shelter. Capturing the light is everything! As a plein air painter, it is always the light that I remember most about any location. It is my inspiration Its elusive quality can transform a figure or a landscape in just a matter of seconds. I strive to convey that sense of place by capturing its fleeting magic. Getting outside is good for the soul. Through my artwork, I try to expand and contract as far as possible between limits known and unknown. Generally, I couldn’t talk about limits I\n",
      "\n",
      "\n",
      "Arresch is a New York based Space disco band.\n",
      "\n",
      "They captured in the spontaneous dance and movement of the brush as it meets the rice paper. There is no going back and correcting when painting with ink and rice paper. I decontextualize. Then, I reconstruct. Looking past the obvious, close observation and engagement of the subject is my process. The challenge is to see beyond the distraction of the conspicuous to capture its unique self. Some of my subjects are quite beautiful, others less so. My goal is to inspire those who see my work to look more carefully at the world around them, to discover beauty in unusual places. I built up\n",
      "\n",
      "\n",
      "Maroon 5 is a New York based Jump-Up band.\n",
      "\n",
      "They reductions akin to musical themes with variations. In my work I try to expand and contract as far as possible between limits known and unknown. Generally, I couldn’t talk about limits I know. I only can say at times I feel closer to them, particularly while doing or after having done some conceptual series…. The most simple means for setting down my ideas and conceptions, numbers and words, are paper and pencil. I like the least pretentious and most humble means, for my ideas depend on themselves and not upon material; it is the very nature of ideas to be non-materialistic. Many variations\n",
      "\n",
      "\n"
     ]
    }
   ],
   "source": [
    "for i in range(10):\n",
    "    generated_words = gen_from_model(3, genesis_word_model)\n",
    "    paragraph = (' '.join(generated_words))\n",
    "    print(grammar.flatten(\"#origin#\"))\n",
    "    print()\n",
    "    print(\"They \" + paragraph)\n",
    "    print()\n",
    "    print()"
   ]
  },
  {
   "cell_type": "code",
   "execution_count": null,
   "metadata": {},
   "outputs": [],
   "source": []
  },
  {
   "cell_type": "code",
   "execution_count": null,
   "metadata": {},
   "outputs": [],
   "source": []
  }
 ],
 "metadata": {
  "kernelspec": {
   "display_name": "Python 3",
   "language": "python",
   "name": "python3"
  },
  "language_info": {
   "codemirror_mode": {
    "name": "ipython",
    "version": 3
   },
   "file_extension": ".py",
   "mimetype": "text/x-python",
   "name": "python",
   "nbconvert_exporter": "python",
   "pygments_lexer": "ipython3",
   "version": "3.6.4"
  }
 },
 "nbformat": 4,
 "nbformat_minor": 2
}
