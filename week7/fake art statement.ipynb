{
 "cells": [
  {
   "cell_type": "code",
   "execution_count": null,
   "metadata": {},
   "outputs": [],
   "source": [
    "from shmarkov import *"
   ]
  },
  {
   "cell_type": "code",
   "execution_count": null,
   "metadata": {},
   "outputs": [],
   "source": [
    "!conda install -y keras"
   ]
  },
  {
   "cell_type": "code",
   "execution_count": null,
   "metadata": {},
   "outputs": [],
   "source": [
    "!pip install textgenrnn"
   ]
  },
  {
   "cell_type": "code",
   "execution_count": null,
   "metadata": {},
   "outputs": [],
   "source": [
    "from textgenrnn import textgenrnn"
   ]
  },
  {
   "cell_type": "code",
   "execution_count": null,
   "metadata": {},
   "outputs": [],
   "source": [
    "textgen = textgenrnn()"
   ]
  },
  {
   "cell_type": "code",
   "execution_count": null,
   "metadata": {},
   "outputs": [],
   "source": [
    "import json\n",
    "band_data = json.loads(open(\"bandnames.json\").read())\n",
    "names = band_data['band']"
   ]
  },
  {
   "cell_type": "code",
   "execution_count": null,
   "metadata": {},
   "outputs": [],
   "source": [
    "textgen.train_on_texts(names, num_epochs=30)"
   ]
  },
  {
   "cell_type": "code",
   "execution_count": 70,
   "metadata": {},
   "outputs": [],
   "source": [
    "new_bands = textgen.generate(25, temperature=0.9, return_as_list=True)"
   ]
  },
  {
   "cell_type": "code",
   "execution_count": 71,
   "metadata": {},
   "outputs": [
    {
     "name": "stdout",
     "output_type": "stream",
     "text": [
      "['The Grateful Wolfulling', 'Floyd', 'The Grateful Pink Orchestra', 'OneReprester', 'The Carpenters', 'The Grateful', 'The Grates', 'Giverage', 'OneRepublic', 'The Underground', 'Pink Chrisent', 'Diddley', 'Ever Appress', 'Arctic Orcens', 'Textestee', 'Attack!', 'The Monkees', 'The Pask', 'The Fashing Floyd', 'Pink Orchestra', 'Dead.', 'The Dead Chris', 'Brudan intervie', 'Donald Jaink', 'Arcuses']\n"
     ]
    }
   ],
   "source": [
    "print(new_bands)"
   ]
  },
  {
   "cell_type": "code",
   "execution_count": null,
   "metadata": {},
   "outputs": [],
   "source": [
    "type(new_bands)"
   ]
  },
  {
   "cell_type": "code",
   "execution_count": 72,
   "metadata": {
    "scrolled": true
   },
   "outputs": [],
   "source": [
    "genesis_lines = open(\"art_statement.txt\").readlines()\n",
    "genesis_lines_words = [line.strip().split() for line in genesis_lines] # strip whitespace and split into words"
   ]
  },
  {
   "cell_type": "code",
   "execution_count": 73,
   "metadata": {},
   "outputs": [],
   "source": [
    "genesis_starts = [item[:2] for item in genesis_lines_words if len(item) >= 2]"
   ]
  },
  {
   "cell_type": "code",
   "execution_count": 74,
   "metadata": {},
   "outputs": [],
   "source": [
    "genesis_lines_model = markov_model_from_sequences(2, genesis_lines_words)"
   ]
  },
  {
   "cell_type": "code",
   "execution_count": 76,
   "metadata": {},
   "outputs": [],
   "source": [
    "for i in range(10):\n",
    "    start = random.choice(genesis_starts)\n",
    "    generated = gen_from_model(2, genesis_lines_model, random.choice(genesis_starts),500)\n",
    "    paragraph=(' '.join(generated))"
   ]
  },
  {
   "cell_type": "code",
   "execution_count": 52,
   "metadata": {},
   "outputs": [],
   "source": [
    "import tracery"
   ]
  },
  {
   "cell_type": "code",
   "execution_count": 53,
   "metadata": {},
   "outputs": [
    {
     "data": {
      "text/plain": [
       "{'a': <function tracery.modifiers.a>,\n",
       " 'capitalize': <function tracery.modifiers.capitalize_>,\n",
       " 'capitalizeAll': <function tracery.modifiers.capitalizeAll>,\n",
       " 'ed': <function tracery.modifiers.ed>,\n",
       " 'firstS': <function tracery.modifiers.firstS>,\n",
       " 'lowercase': <function tracery.modifiers.lowercase>,\n",
       " 'replace': <function tracery.modifiers.replace>,\n",
       " 's': <function tracery.modifiers.s>,\n",
       " 'uppercase': <function tracery.modifiers.uppercase>}"
      ]
     },
     "execution_count": 53,
     "metadata": {},
     "output_type": "execute_result"
    }
   ],
   "source": [
    "from tracery.modifiers import base_english\n",
    "base_english"
   ]
  },
  {
   "cell_type": "code",
   "execution_count": 54,
   "metadata": {},
   "outputs": [
    {
     "name": "stdout",
     "output_type": "stream",
     "text": [
      "['2-step', '4-beat', 'Acid breaks', 'Acid house', 'Acid jazz', 'Acid rock', 'Acid techno', 'Acid trance', 'Aggrotech', 'Alternative dance', 'Alternative metal', 'Alternative rock', 'Ambient dub', 'Ambient house', 'Ambient techno', 'Ambient', 'Anarcho punk', 'Anti-folk', 'Art punk', 'Art rock', 'Asian Underground', 'Avant-garde jazz', 'Baggy', 'Balearic Beat', 'Baltimore Club', 'Bassline', 'Beat music', 'Bebop', 'Big beat', 'Bitpop', 'Black metal', 'Boogie-woogie', 'Boogie', 'Bossa nova', 'Bouncy house', 'Bouncy techno', 'Breakbeat hardcore', 'Breakbeat', 'Breakcore', 'Breakstep', 'British dance', 'Britpop', 'Broken beat', 'Bubblegum dance', 'Canterbury scene', 'Cape jazz', 'Celtic metal', 'Celtic punk', 'Celtic', 'Chamber jazz', 'Chicago house', 'Chill out', 'Chillwave', 'Chinese rock', 'Chiptune', 'Christian metal', 'Christian punk', 'Christian rock', 'Classic trance', 'Coldwave', 'Contemporary folk', 'Continental Jazz', 'Cool jazz', 'Cosmic disco', 'Cowpunk', 'Crossover jazz', 'Crossover thrash', 'Crunk', 'Crust punk', 'Crustgrind', 'Cybergrind', 'D-beat', 'Dance-pop', 'Dance-punk', 'Dance-rock', 'Dark ambient', 'Dark cabaret', 'Dark electro', 'Dark psytrance', 'Dark Wave', 'Darkcore', 'Darkside jungle', 'Darkstep', 'Death industrial', 'Death metal', 'Deathcore', 'Deathrock', 'Deep house', 'Desert rock', 'Detroit techno', 'Digital hardcore', 'Disco house', 'Disco polo', 'Disco', 'Diva house', 'Dixieland', 'Djent', 'Doom metal', 'Doomcore', 'Downtempo', 'Dream house', 'Dream pop', 'Dream trance', 'Drone metal', 'Drone', 'Drum and bass', 'Drumfunk', 'Drumstep', 'Dub', 'Dubstep', 'Dubstyle', 'Dubtronica', 'Dunedin Sound', 'Dutch house', 'EDM', 'Electro backbeat', 'Electro house', 'Electro-grime', 'Electro-industrial', 'Electro', 'Electroacoustic', 'Electroclash', 'Electronic art music', 'Electronic rock', 'Electronica', 'Electronicore', 'Electropop', 'Electropunk', 'Emo', 'Epic doom', 'Ethereal wave', 'Ethnic electronica', 'Euro disco', 'Eurobeat', 'Eurodance', 'European free jazz', 'Europop', 'Experimental rock', 'Filk', 'Florida breaks', 'Folk metal', 'Folk punk', 'Folk rock', 'Folk', 'Folktronica', 'Freak folk', 'Freakbeat', 'Free tekno', 'Freestyle house', 'Freestyle', 'French house', 'Full on', 'Funeral doom', 'Funk metal', 'Funky house', 'Funky', 'Futurepop', 'Gabber', 'Garage punk', 'Garage rock', 'Ghetto house', 'Ghettotech', 'Glam metal', 'Glam rock', 'Glitch', 'Goregrind', 'Gothic metal', 'Gothic rock', 'Grime', 'Grindcore', 'Groove metal', 'Grunge', 'Happy hardcore', 'Hard bop', 'Hard NRG', 'Hard rock', 'Hard trance', 'Hardbag', 'Hardcore punk', 'Hardcore/Hard dance', 'Hardstep', 'Hardstyle', 'Heavy metal', 'Hi-NRG', 'Hip house', 'Horror punk', 'House', 'IDM', 'Illbient', 'Indie folk', 'Indie pop', 'Indie rock', 'Indietronica', 'Industrial folk', 'Industrial metal', 'Industrial rock', 'Industrial', 'Intelligent drum and bass', 'Italo dance', 'Italo disco', 'Italo house', 'Japanoise', 'Jazz blues', 'Jazz fusion', 'Jazz rap', 'Jazz rock', 'Jazz-funk', 'Jump-Up', 'Jumpstyle', 'Krautrock', 'Laptronica', 'Latin house', 'Latin jazz', 'Liquid funk', 'Livetronica', 'Lowercase', 'Madchester', 'Mainstream jazz', 'Makina', 'Math rock', 'Mathcore', 'Medieval metal', 'Melodic death metal', 'Metalcore', 'Minimal house/Microhouse', 'Minimal', 'Modal jazz', 'Moombahton', 'Neo-bop jazz', 'Neo-psychedelia', 'Neo-swing', 'Neofolk', 'Neurofunk', 'New Beat', 'New jack swing', 'New prog', 'New rave', 'New wave', 'New-age', 'Nintendocore', 'No wave', 'Noise pop', 'Noise rock', 'Noise', 'Noisegrind', 'Nortec', 'Novelty ragtime', 'Nu jazz', 'Nu metal', 'Nu skool breaks', 'Nu-disco', 'Oldschool jungle', 'Orchestral jazz', 'Orchestral Uplifting', 'Paisley Underground', 'Pop punk', 'Pop rock', 'Post-bop', 'Post-Britpop', 'Post-disco', 'Post-grunge', 'Post-hardcore', 'Post-metal', 'Post-punk revival', 'Post-punk', 'Post-rock', 'Power electronics', 'Power metal', 'Power noise', 'Power pop', 'Powerviolence', 'Progressive breaks', 'Progressive drum & bass', 'Progressive folk', 'Progressive house', 'Progressive metal', 'Progressive rock', 'Progressive techno', 'Progressive', 'Psybreaks', 'Psychedelic folk', 'Psychedelic rock', 'Psychedelic trance', 'Psychobilly', 'Psyprog', 'Punk jazz', 'Punk rock', 'Raga rock', 'Ragga-jungle', 'Raggacore', 'Ragtime', 'Rap metal', 'Rap rock', 'Rapcore', 'Riot grrrl', 'Rock and roll', 'Rock in Opposition', 'Sadcore', 'Sambass', 'Screamo', 'Shibuya-kei', 'Shoegaze', 'Ska jazz', 'Ska punk', 'Skate punk', 'Skweee', 'Slowcore', 'Sludge metal', 'Smooth jazz', 'Soft rock', 'Soul jazz', 'Sound art', 'Southern rock', 'Space disco', 'Space house', 'Space rock', 'Speed garage', 'Speed metal', 'Speedcore', 'Stoner rock', 'Straight-ahead jazz', 'Street punk', 'Stride jazz', 'Sufi rock', 'Sung poetry', 'Suomisaundi', 'Surf rock', 'Swing house', 'Swing', 'Symphonic metal', 'Synthcore', 'Synthpop', 'Synthpunk', 'Tech house', 'Tech trance', 'Technical death metal', 'Techno-DNB', 'Techno-folk', 'Techno', 'Technopop', 'Techstep', 'Tecno brega', 'Terrorcore', 'Third stream', 'Thrash metal', 'Thrashcore', 'Toytown Techno', 'Trad jazz', 'Traditional doom', 'Trance', 'Trap', 'Tribal house', 'Trip hop', 'Turbofolk', 'Twee Pop', 'Uplifting trance', 'Viking metal', 'Vocal house', 'Vocal jazz', 'Vocal trance', 'West Coast jazz', 'Western', 'Witch House/Drag', 'World fusion', 'Worldbeat', 'Yacht rock', 'Yorkshire Bleeps and Bass']\n"
     ]
    }
   ],
   "source": [
    "genre_data = json.loads(open(\"genre.json\").read())\n",
    "genres = genre_data['genres']\n",
    "print(genres)"
   ]
  },
  {
   "cell_type": "code",
   "execution_count": 55,
   "metadata": {},
   "outputs": [],
   "source": [
    "rules = {\n",
    "    \"origin\": \"#new_bands# is a New York based #genres# band.\",\n",
    "    \"new_bands\": new_bands,\n",
    "    \"genres\":genres\n",
    "}\n",
    "grammar = tracery.Grammar(rules)\n",
    "grammar.add_modifiers(base_english)"
   ]
  },
  {
   "cell_type": "code",
   "execution_count": 80,
   "metadata": {},
   "outputs": [
    {
     "name": "stdout",
     "output_type": "stream",
     "text": [
      "ABEbushic Satuce is a New York based Noise pop band.\n",
      "\n",
      "Getting outside is good for the soul. Through their artwork, They try to expand and contract as far as possible between limits known and unknown. Generally, They couldn’t talk about limits They know. They only can say at times They feel closer to them, particularly while doing or after having done some conceptual series…. The most simple means for setting down their ideas depend on themselves and not upon material; it is the very nature of ideas to be together even though they may not succeed in reaching each other\n",
      "\n",
      "\n",
      "Odadt Scud is a New York based Ragtime band.\n",
      "\n",
      "individual and the way it looks to whoever is caring for it and the shared awareness of the conspicuous to capture its unique self. Some of their subjects are quite beautiful, others less so. Their goal is to inspire those who see their work They try to expand and contract as far as possible between limits known and unknown. Generally, They couldn’t talk about limits They know. They only can say at times They feel closer to them, particularly while doing or after having done some conceptual series…. The most simple means for setting down their ideas and conceptions, numbers and words, are paper and pencil. They like it when a place not only of comfort, but of control. This sense of order, in whatever form it takes, acts as a shield against the unpredictability and lurking chaos of the subject is their process. The challenge is to inspire those who see their works as groups of objects relating to each other. And this is why they grow from a single point—a minimum base of immobility which suggests an always possible change\n",
      "\n",
      "\n",
      "Rigley Cronbie is a New York based Dark ambient band.\n",
      "\n",
      "They built up something by having disturbed something: destruction becomes construction. Action interrupts contemplation, as the means of accepting something among many given alternatives, for accepting nothing becomes chaos. A system became necessary: how else could They in a concentrated way find something of interest which lends itself to continuation? Their systems are numerical concepts, which work in porcelain for its suppleness, delicacy and strength. Porcelain’s willingness to be transformed, both in form and texture, makes it a perfect medium for exploring the iconic meaning of dress and the thinking that lies behind it. They use traditional materials, ink and brush on rice paper, to capture its unique self. Some of their subjects are quite beautiful, others less so. Their goal is to inspire those who see their works as groups of objects relating to each other. And this is why they grow from a single point—a minimum base of immobility which suggests an always possible change\n",
      "\n",
      "\n",
      "Whene is a New York based Horror punk band.\n",
      "\n",
      "They like the least pretentious and most humble means, for their ideas depend on themselves and not upon material; it is always their intention to approach sound by constantly pushing it to a different formal arrangement. For this reason the figures are placed in the ground the way it looks to whoever is caring for it and the thinking that lies behind it. They use traditional materials, ink and brush on rice paper, to capture its unique self. Some of their subjects are quite beautiful, others less so. Their goal is to inspire those who see their work to look and the ink sing. Everything is captured in the spontaneous dance and the thinking that lies behind it. They use traditional materials, ink and brush on rice paper, to capture its unique self. Some of their subjects are quite beautiful, others less so. Their goal is to see beyond the distraction of the conspicuous to capture movement and life — making the brush as it meets the rice paper. There is no going back and correcting when painting with ink and rice paper.\n",
      "\n",
      "\n",
      "The Monk Zepprombr is a New York based Garage punk band.\n",
      "\n",
      "Getting outside is good for the soul. Through their artwork, They try to be transformed, both in form and texture, makes it a perfect medium for exploring the iconic meaning of dress and the way it looks to me. Trouble is, the kinds of places They find most appealing keep getting closed or torn down.\n",
      "\n",
      "\n",
      "The Velvet Bieles is a New York based Breakbeat band.\n",
      "\n",
      "Getting outside is good for the soul. Through their artwork, They try to be non-materialistic. Many variations exist in their work. There is no going back and correcting when painting with ink and rice paper.\n",
      "\n",
      "\n",
      "Marvin Lease is a New York based New Beat band.\n",
      "\n",
      "What do They want to say with their art?\n",
      "\n",
      "\n",
      "Vinkhin Historia Off is a New York based Ambient house band.\n",
      "\n",
      "Theyts elusive quality can transform a figure or a bird and flower painting. They use traditional materials, ink and rice paper.\n",
      "\n",
      "\n",
      "Odadt Scud is a New York based Grime band.\n",
      "\n",
      "They built up something by having disturbed something: destruction becomes construction. Action interrupts contemplation, as the soap, toilet paper, and tiles. Theyt means there is a traditional landscape or a landscape in just a matter of seconds. They strive to convey that sense of place by capturing its fleeting magic.\n",
      "\n",
      "\n",
      "The Monkees is a New York based Deathrock band.\n",
      "\n",
      "Their subject matter is nature, whether it is a connection between them, and an environment of order. Home is a way of questioning the attitudes, fears and unwritten rules which have formed that environment and our behavior within it.\n",
      "\n",
      "\n"
     ]
    }
   ],
   "source": [
    "for i in range(10):\n",
    "    start = random.choice(genesis_starts)\n",
    "    generated = gen_from_model(2, genesis_lines_model, random.choice(genesis_starts),500)\n",
    "    paragraph = (' '.join(generated).replace(\"I\",\"They\"))\n",
    "    paragraph_replaced = paragraph.replace('My','Their')\n",
    "    paragraph_replaced2 = paragraph_replaced.replace('my','their')\n",
    "    print(grammar.flatten(\"#origin#\"))\n",
    "    print()\n",
    "    print(paragraph_replaced2)\n",
    "    print()\n",
    "    print()"
   ]
  },
  {
   "cell_type": "code",
   "execution_count": null,
   "metadata": {},
   "outputs": [],
   "source": []
  },
  {
   "cell_type": "code",
   "execution_count": null,
   "metadata": {},
   "outputs": [],
   "source": []
  },
  {
   "cell_type": "code",
   "execution_count": null,
   "metadata": {},
   "outputs": [],
   "source": []
  },
  {
   "cell_type": "code",
   "execution_count": null,
   "metadata": {},
   "outputs": [],
   "source": []
  }
 ],
 "metadata": {
  "kernelspec": {
   "display_name": "Python 3",
   "language": "python",
   "name": "python3"
  },
  "language_info": {
   "codemirror_mode": {
    "name": "ipython",
    "version": 3
   },
   "file_extension": ".py",
   "mimetype": "text/x-python",
   "name": "python",
   "nbconvert_exporter": "python",
   "pygments_lexer": "ipython3",
   "version": "3.6.4"
  }
 },
 "nbformat": 4,
 "nbformat_minor": 2
}
